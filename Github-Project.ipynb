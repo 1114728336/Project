{
 "cells": [
  {
   "cell_type": "code",
   "execution_count": 1,
   "id": "7b20afc4",
   "metadata": {},
   "outputs": [],
   "source": [
    "import numpy as np\n",
    "import matplotlib.pyplot as plt\n",
    "from scipy import ndimage\n",
    "import multiprocessing as mp\n",
    "import os\n",
    "\n",
    "import torch\n",
    "import torch.nn as nn\n",
    "from torch.nn.parameter import Parameter\n",
    "import torch.nn.functional as F\n",
    "import torch.optim as optim\n",
    "from torch.autograd import Variable\n",
    "\n",
    "\n",
    "from tqdm import tqdm_notebook\n",
    "from tqdm import tnrange"
   ]
  },
  {
   "cell_type": "code",
   "execution_count": 2,
   "id": "2a34aa27",
   "metadata": {},
   "outputs": [],
   "source": [
    "train_x_list = \"D:/Study/自学项目/人类活动识别/UCI_data/np/x_train.npy\"\n",
    "train_y_list = \"D:/Study/自学项目/人类活动识别/UCI_data/np/y_train.npy\"\n",
    "test_x_list = \"D:/Study/自学项目/人类活动识别/UCI_data/np/x_test.npy\"\n",
    "test_y_list = \"D:/Study/自学项目/人类活动识别/UCI_data/np/y_test.npy\"\n",
    "\n",
    "data_x_raw = np.load(train_x_list)\n",
    "trainx = data_x_raw.reshape(-1, 1, data_x_raw.shape[1], data_x_raw.shape[2])\n",
    "trainy = np.load(train_y_list)"
   ]
  },
  {
   "cell_type": "code",
   "execution_count": 3,
   "id": "e4b365e1",
   "metadata": {},
   "outputs": [
    {
     "data": {
      "text/plain": [
       "(7352, 1, 128, 9)"
      ]
     },
     "execution_count": 3,
     "metadata": {},
     "output_type": "execute_result"
    }
   ],
   "source": [
    "trainx.shape"
   ]
  },
  {
   "cell_type": "markdown",
   "id": "16da8622",
   "metadata": {},
   "source": [
    "# Few-shot learning"
   ]
  },
  {
   "cell_type": "code",
   "execution_count": 4,
   "id": "e4a1e847",
   "metadata": {},
   "outputs": [
    {
     "data": {
      "text/plain": [
       "torch.Size([5, 25, 1, 128, 9])"
      ]
     },
     "execution_count": 4,
     "metadata": {},
     "output_type": "execute_result"
    }
   ],
   "source": [
    "def extract_sample(n_way, n_support, n_query, datax, datay):\n",
    "    #Randomly pick up sample\n",
    "    #n_wany means the number of classes\n",
    "    #n_support means the number of labeled samples per class in the support set\n",
    "    #n_query means the number of labeled samples per class in the query set\n",
    "\n",
    "    sample = []\n",
    "    K = np.random.choice(np.unique(datay), n_way, replace=False)\n",
    "    for cls in K:\n",
    "        datax_cls = datax[datay == cls]\n",
    "        perm = np.random.permutation(datax_cls)\n",
    "        sample_cls = perm[:(n_support+n_query)]\n",
    "        sample.append(sample_cls)\n",
    "    sample = np.array(sample)\n",
    "    sample = torch.from_numpy(sample).float()\n",
    "    return({\n",
    "      'sample': sample,\n",
    "      'n_way': n_way,\n",
    "      'n_support': n_support,\n",
    "      'n_query': n_query\n",
    "      })\n",
    "sample = extract_sample(5, 20, 5, trainx, trainy)\n",
    "sample = sample['sample']\n",
    "sample.shape"
   ]
  },
  {
   "cell_type": "code",
   "execution_count": 5,
   "id": "4596c8bb",
   "metadata": {},
   "outputs": [],
   "source": [
    "class Flatten(nn.Module):\n",
    "    def __init__(self):\n",
    "        super(Flatten, self).__init__()\n",
    "\n",
    "    def forward(self, x):\n",
    "        return x.view(x.size(0), -1)\n",
    "\n",
    "def load_protonet_conv(**kwargs):\n",
    "    x_dim = kwargs['x_dim']\n",
    "    hid_dim = kwargs['hid_dim']\n",
    "    z_dim = kwargs['z_dim']\n",
    "\n",
    "    def conv_block(in_channels, out_channels):\n",
    "        return nn.Sequential(\n",
    "            nn.Conv2d(in_channels, out_channels, 3, padding=1),\n",
    "            nn.ReLU(),\n",
    "            nn.MaxPool2d(2)\n",
    "            )\n",
    "    \n",
    "    def conv_block2(in_channels, out_channels):\n",
    "        return nn.Sequential(\n",
    "            nn.Conv2d(in_channels, out_channels, 3, padding=1),\n",
    "            nn.ReLU(),\n",
    "            )\n",
    "\n",
    "\n",
    "    encoder = nn.Sequential(\n",
    "    conv_block(1, 12),\n",
    "    conv_block(12, 32),\n",
    "    conv_block2(32, z_dim),\n",
    "    Flatten()\n",
    "    )\n",
    "\n",
    "    return ProtoNet(encoder)\n",
    "     \n"
   ]
  },
  {
   "cell_type": "code",
   "execution_count": 6,
   "id": "1b7492bc",
   "metadata": {},
   "outputs": [],
   "source": [
    "class ProtoNet(nn.Module):\n",
    "    def __init__(self, encoder):\n",
    "        super(ProtoNet, self).__init__()\n",
    "        self.encoder = encoder\n",
    "\n",
    "    def set_forward_loss(self, sample):\n",
    "        sample_images = sample['sample']\n",
    "        n_way = sample['n_way']\n",
    "        n_support = sample['n_support']\n",
    "        n_query = sample['n_query']\n",
    "\n",
    "        x_support = sample_images[:, :n_support]\n",
    "        x_query = sample_images[:, n_support:]\n",
    "\n",
    "        target_inds = torch.arange(0, n_way).view(n_way, 1, 1).expand(n_way, n_query, 1).long()\n",
    "        target_inds = Variable(target_inds, requires_grad=False)\n",
    "        target_inds = target_inds\n",
    "\n",
    "        #encode images of the support and the query set\n",
    "        x = torch.cat([x_support.contiguous().view(n_way * n_support, *x_support.size()[2:]),\n",
    "                       x_query.contiguous().view(n_way * n_query, *x_query.size()[2:])], 0)\n",
    "        \n",
    "        #use CNN to encode the dataset\n",
    "        z = self.encoder.forward(x)\n",
    "        z_dim = z.size(-1)\n",
    "        z_proto = z[:n_way*n_support].view(n_way, n_support, z_dim).mean(1)\n",
    "        z_query = z[n_way*n_support:]\n",
    "\n",
    "        #compute distances\n",
    "        dists = euclidean_dist(z_query, z_proto)\n",
    "\n",
    "        #compute probabilities\n",
    "        log_p_y = F.log_softmax(-dists, dim=1).view(n_way, n_query, -1)\n",
    "\n",
    "        loss_val = -log_p_y.gather(2, target_inds).squeeze().view(-1).mean()\n",
    "        _, y_hat = log_p_y.max(2)\n",
    "        acc_val = torch.eq(y_hat, target_inds.squeeze()).float().mean()\n",
    "\n",
    "        return loss_val, {\n",
    "            'loss': loss_val.item(),\n",
    "            'acc': acc_val.item(),\n",
    "            'y_hat': y_hat\n",
    "            }\n"
   ]
  },
  {
   "cell_type": "code",
   "execution_count": 7,
   "id": "0d29ac35",
   "metadata": {},
   "outputs": [],
   "source": [
    "def euclidean_dist(x, y):\n",
    "    n = x.size(0)\n",
    "    m = y.size(0)\n",
    "    d = x.size(1)\n",
    "    assert d == y.size(1)\n",
    "\n",
    "    x = x.unsqueeze(1).expand(n, m, d)\n",
    "    y = y.unsqueeze(0).expand(n, m, d)\n",
    "\n",
    "    return torch.pow(x - y, 2).sum(2)\n",
    "     "
   ]
  },
  {
   "cell_type": "code",
   "execution_count": 29,
   "id": "0ff7601c",
   "metadata": {},
   "outputs": [],
   "source": [
    "def train(model, optimizer, train_x, train_y, n_way, n_support, n_query, max_epoch, epoch_size):\n",
    "\n",
    "    scheduler = optim.lr_scheduler.StepLR(optimizer, 1, gamma=0.5, last_epoch=-1)\n",
    "    epoch = 0 \n",
    "    stop = False \n",
    "    alllose = []\n",
    "    allacc = []\n",
    "    \n",
    "    while epoch < max_epoch and not stop:\n",
    "        running_loss = 0.0\n",
    "        running_acc = 0.0\n",
    "        \n",
    "        for episode in tnrange(epoch_size, desc=\"Epoch {:d} train\".format(epoch+1)):\n",
    "            sample = extract_sample(n_way, n_support, n_query, train_x, train_y)\n",
    "            optimizer.zero_grad()\n",
    "            loss, output = model.set_forward_loss(sample)\n",
    "            running_loss += output['loss']\n",
    "            running_acc += output['acc']\n",
    "            loss.backward()\n",
    "            optimizer.step()\n",
    "        epoch_loss = running_loss / epoch_size\n",
    "        epoch_acc = running_acc / epoch_size\n",
    "        alllose.append(epoch_loss)\n",
    "        allacc.append(epoch_acc)\n",
    "        print('Epoch {:d} -- Loss: {:.4f} Acc: {:.4f}'.format(epoch+1,epoch_loss, epoch_acc))\n",
    "        epoch += 1\n",
    "        scheduler.step()\n",
    "     \n",
    "    return list(model.named_parameters()), alllose,allacc"
   ]
  },
  {
   "cell_type": "markdown",
   "id": "224b0de8",
   "metadata": {},
   "source": [
    "# Few-shot learning with Federated learning"
   ]
  },
  {
   "cell_type": "markdown",
   "id": "2df1e810",
   "metadata": {},
   "source": [
    "I assume there are two independent servers and they both have some dataset. To protect the privacy of their data, i use the federated learning instead of getting their data. There i send two same models to these two servers from a safe server, and then they train a model respectively. Then two server will send the weights and biases back to the safe server and calculte a average weight and bias. Finally, put the average parameters into a new model same as above two and use this model to test.   "
   ]
  },
  {
   "cell_type": "markdown",
   "id": "bdc37ebf",
   "metadata": {},
   "source": [
    "## Model A"
   ]
  },
  {
   "cell_type": "markdown",
   "id": "1202432e",
   "metadata": {},
   "source": [
    "This is the server A and it have half of dataset. The pral_a is the weight and bias after training."
   ]
  },
  {
   "cell_type": "code",
   "execution_count": 30,
   "id": "0d5c7e0d",
   "metadata": {},
   "outputs": [
    {
     "name": "stderr",
     "output_type": "stream",
     "text": [
      "D:\\Anaconda\\envs\\syft\\lib\\site-packages\\ipykernel_launcher.py:13: TqdmDeprecationWarning: Please use `tqdm.notebook.trange` instead of `tqdm.tnrange`\n",
      "  del sys.path[0]\n"
     ]
    },
    {
     "data": {
      "application/vnd.jupyter.widget-view+json": {
       "model_id": "9132214219ff4f1ba50b1e8178b09b76",
       "version_major": 2,
       "version_minor": 0
      },
      "text/plain": [
       "Epoch 1 train:   0%|          | 0/3600 [00:00<?, ?it/s]"
      ]
     },
     "metadata": {},
     "output_type": "display_data"
    },
    {
     "name": "stdout",
     "output_type": "stream",
     "text": [
      "Epoch 1 -- Loss: 0.1022 Acc: 0.9535\n"
     ]
    },
    {
     "data": {
      "application/vnd.jupyter.widget-view+json": {
       "model_id": "6dab7d6968ae46a19c2d1b2bb7d90ab5",
       "version_major": 2,
       "version_minor": 0
      },
      "text/plain": [
       "Epoch 2 train:   0%|          | 0/3600 [00:00<?, ?it/s]"
      ]
     },
     "metadata": {},
     "output_type": "display_data"
    },
    {
     "name": "stdout",
     "output_type": "stream",
     "text": [
      "Epoch 2 -- Loss: 0.0583 Acc: 0.9731\n"
     ]
    },
    {
     "data": {
      "application/vnd.jupyter.widget-view+json": {
       "model_id": "27a1a35bec21450188f4f40cb6da8d83",
       "version_major": 2,
       "version_minor": 0
      },
      "text/plain": [
       "Epoch 3 train:   0%|          | 0/3600 [00:00<?, ?it/s]"
      ]
     },
     "metadata": {},
     "output_type": "display_data"
    },
    {
     "name": "stdout",
     "output_type": "stream",
     "text": [
      "Epoch 3 -- Loss: 0.0444 Acc: 0.9807\n"
     ]
    },
    {
     "data": {
      "application/vnd.jupyter.widget-view+json": {
       "model_id": "92b08837f97e4372aa8e8701953db7c8",
       "version_major": 2,
       "version_minor": 0
      },
      "text/plain": [
       "Epoch 4 train:   0%|          | 0/3600 [00:00<?, ?it/s]"
      ]
     },
     "metadata": {},
     "output_type": "display_data"
    },
    {
     "name": "stdout",
     "output_type": "stream",
     "text": [
      "Epoch 4 -- Loss: 0.0381 Acc: 0.9842\n"
     ]
    },
    {
     "data": {
      "application/vnd.jupyter.widget-view+json": {
       "model_id": "2d062e8c78d0440599f6b15eb031d015",
       "version_major": 2,
       "version_minor": 0
      },
      "text/plain": [
       "Epoch 5 train:   0%|          | 0/3600 [00:00<?, ?it/s]"
      ]
     },
     "metadata": {},
     "output_type": "display_data"
    },
    {
     "name": "stdout",
     "output_type": "stream",
     "text": [
      "Epoch 5 -- Loss: 0.0328 Acc: 0.9865\n"
     ]
    }
   ],
   "source": [
    "data_a_x = trainx[:3600]\n",
    "data_a_y = trainy[:3600]\n",
    "\n",
    "model = load_protonet_conv(x_dim=(1,128,9),\n",
    "    hid_dim=32,\n",
    "    z_dim=64,\n",
    "            )\n",
    "\n",
    "optimizer = optim.Adam(model.parameters(), lr = 0.001)\n",
    "\n",
    "n_way = 5\n",
    "n_support = 10\n",
    "n_query = 5\n",
    "\n",
    "train_x = trainx\n",
    "train_y = trainy\n",
    "\n",
    "max_epoch = 5\n",
    "epoch_size = 3600\n",
    "\n",
    "pra1_a,al_a,ac_a = train(model, optimizer, data_a_x, data_a_y, n_way, n_support, n_query, max_epoch, epoch_size)"
   ]
  },
  {
   "cell_type": "code",
   "execution_count": 32,
   "id": "8bf8eb86",
   "metadata": {},
   "outputs": [
    {
     "data": {
      "image/png": "[encoded data removed]",
      "text/plain": [
       "<Figure size 1200x400 with 2 Axes>"
      ]
     },
     "metadata": {},
     "output_type": "display_data"
    }
   ],
   "source": [
    "e = np.arange(5)\n",
    "plt.figure(figsize=(12,4))\n",
    "plt.subplot(1,2,1)\n",
    "plt.plot(e,ac_a,\"ro-\",label=\"Model A train accuracy\")\n",
    "plt.legend()\n",
    "plt.xlabel(\"epoch\")\n",
    "plt.ylabel(\"loss\")\n",
    "plt.subplot(1,2,2)\n",
    "plt.plot(e,al_a,\"ro-\",label=\"Model A train loss\")\n",
    "plt.xlabel(\"epoch\")\n",
    "plt.ylabel(\"accuracy\")\n",
    "plt.legend()\n",
    "plt.show()"
   ]
  },
  {
   "cell_type": "markdown",
   "id": "65023e61",
   "metadata": {},
   "source": [
    "## Model B"
   ]
  },
  {
   "cell_type": "markdown",
   "id": "dd611892",
   "metadata": {},
   "source": [
    "This is the servr B and it have another half of dataset. The pral_b is the weight and bias after training."
   ]
  },
  {
   "cell_type": "code",
   "execution_count": 33,
   "id": "016dd43c",
   "metadata": {},
   "outputs": [
    {
     "name": "stderr",
     "output_type": "stream",
     "text": [
      "D:\\Anaconda\\envs\\syft\\lib\\site-packages\\ipykernel_launcher.py:13: TqdmDeprecationWarning: Please use `tqdm.notebook.trange` instead of `tqdm.tnrange`\n",
      "  del sys.path[0]\n"
     ]
    },
    {
     "data": {
      "application/vnd.jupyter.widget-view+json": {
       "model_id": "72f80cd15f774b16ad9d3e2bf2e5143b",
       "version_major": 2,
       "version_minor": 0
      },
      "text/plain": [
       "Epoch 1 train:   0%|          | 0/3600 [00:00<?, ?it/s]"
      ]
     },
     "metadata": {},
     "output_type": "display_data"
    },
    {
     "name": "stdout",
     "output_type": "stream",
     "text": [
      "Epoch 1 -- Loss: 0.0672 Acc: 0.9731\n"
     ]
    },
    {
     "data": {
      "application/vnd.jupyter.widget-view+json": {
       "model_id": "6192d6746ca34e8784b8bfe455b74d43",
       "version_major": 2,
       "version_minor": 0
      },
      "text/plain": [
       "Epoch 2 train:   0%|          | 0/3600 [00:00<?, ?it/s]"
      ]
     },
     "metadata": {},
     "output_type": "display_data"
    },
    {
     "name": "stdout",
     "output_type": "stream",
     "text": [
      "Epoch 2 -- Loss: 0.0222 Acc: 0.9907\n"
     ]
    },
    {
     "data": {
      "application/vnd.jupyter.widget-view+json": {
       "model_id": "ac841c266e9946109b1bdbf429886aa8",
       "version_major": 2,
       "version_minor": 0
      },
      "text/plain": [
       "Epoch 3 train:   0%|          | 0/3600 [00:00<?, ?it/s]"
      ]
     },
     "metadata": {},
     "output_type": "display_data"
    },
    {
     "name": "stdout",
     "output_type": "stream",
     "text": [
      "Epoch 3 -- Loss: 0.0122 Acc: 0.9952\n"
     ]
    },
    {
     "data": {
      "application/vnd.jupyter.widget-view+json": {
       "model_id": "950ac5b55e5d48d99dacf6c506e6eb17",
       "version_major": 2,
       "version_minor": 0
      },
      "text/plain": [
       "Epoch 4 train:   0%|          | 0/3600 [00:00<?, ?it/s]"
      ]
     },
     "metadata": {},
     "output_type": "display_data"
    },
    {
     "name": "stdout",
     "output_type": "stream",
     "text": [
      "Epoch 4 -- Loss: 0.0077 Acc: 0.9971\n"
     ]
    },
    {
     "data": {
      "application/vnd.jupyter.widget-view+json": {
       "model_id": "84b36fd099e541389438cf1dc875134c",
       "version_major": 2,
       "version_minor": 0
      },
      "text/plain": [
       "Epoch 5 train:   0%|          | 0/3600 [00:00<?, ?it/s]"
      ]
     },
     "metadata": {},
     "output_type": "display_data"
    },
    {
     "name": "stdout",
     "output_type": "stream",
     "text": [
      "Epoch 5 -- Loss: 0.0056 Acc: 0.9979\n"
     ]
    }
   ],
   "source": [
    "data_b_x = trainx[3600:]\n",
    "data_b_y = trainy[3600:]\n",
    "\n",
    "model = load_protonet_conv(x_dim=(1,128,9),\n",
    "    hid_dim=32,\n",
    "    z_dim=64,\n",
    "            )\n",
    "\n",
    "optimizer = optim.Adam(model.parameters(), lr = 0.001)\n",
    "\n",
    "n_way = 5\n",
    "n_support = 10\n",
    "n_query = 5\n",
    "\n",
    "max_epoch = 5\n",
    "epoch_size = 3600\n",
    "\n",
    "pra1_b,al_b,ac_b = train(model, optimizer, data_b_x, data_b_y, n_way, n_support, n_query, max_epoch, epoch_size)"
   ]
  },
  {
   "cell_type": "code",
   "execution_count": 34,
   "id": "c7d612d0",
   "metadata": {},
   "outputs": [
    {
     "data": {
      "image/png": "[encoded data removed]",
      "text/plain": [
       "<Figure size 1200x400 with 2 Axes>"
      ]
     },
     "metadata": {},
     "output_type": "display_data"
    }
   ],
   "source": [
    "e = np.arange(5)\n",
    "plt.figure(figsize=(12,4))\n",
    "plt.subplot(1,2,1)\n",
    "plt.plot(e,ac_b,\"ro-\",label=\"Model A train accuracy\")\n",
    "plt.legend()\n",
    "plt.xlabel(\"epoch\")\n",
    "plt.ylabel(\"loss\")\n",
    "plt.subplot(1,2,2)\n",
    "plt.plot(e,al_b,\"ro-\",label=\"Model A train loss\")\n",
    "plt.xlabel(\"epoch\")\n",
    "plt.ylabel(\"accuracy\")\n",
    "plt.legend()\n",
    "plt.show()"
   ]
  },
  {
   "cell_type": "markdown",
   "id": "b3a8714d",
   "metadata": {},
   "source": [
    "## Extract the parameters"
   ]
  },
  {
   "cell_type": "markdown",
   "id": "b440a406",
   "metadata": {},
   "source": [
    "Get the parameters back and then calculate the average of them"
   ]
  },
  {
   "cell_type": "code",
   "execution_count": 35,
   "id": "e69e4d26",
   "metadata": {},
   "outputs": [],
   "source": [
    "def combine_params(para_A,para_B):\n",
    "    c1_wA=para_A[0][1].data\n",
    "    c1_wB=para_B[0][1].data\n",
    "  \n",
    "    c2_wA=para_A[2][1].data\n",
    "    c2_wB=para_A[2][1].data\n",
    "    \n",
    "    c3_wA=para_A[4][1].data\n",
    "    c3_wB=para_B[4][1].data\n",
    "\n",
    "\n",
    "    com_para_c1=(c1_wA+c1_wB)/2\n",
    "    com_para_c2=(c2_wA+c2_wB)/2\n",
    "    com_para_c3=(c3_wA+c3_wB)/2\n",
    "        \n",
    "    return com_para_c1,com_para_c2,com_para_c3\n",
    "\n",
    "\n",
    "def combine_params_bias(para_A,para_B):\n",
    "    c1_wA=para_A[1][1].data\n",
    "    c1_wB=para_B[1][1].data\n",
    "  \n",
    "    c2_wA=para_A[3][1].data\n",
    "    c2_wB=para_A[3][1].data\n",
    "    \n",
    "    c3_wA=para_A[5][1].data\n",
    "    c3_wB=para_B[5][1].data\n",
    "\n",
    "\n",
    "    com_para_c1=(c1_wA+c1_wB)/2\n",
    "    com_para_c2=(c2_wA+c2_wB)/2\n",
    "    com_para_c3=(c3_wA+c3_wB)/2\n",
    "        \n",
    "    return com_para_c1,com_para_c2,com_para_c3"
   ]
  },
  {
   "cell_type": "markdown",
   "id": "c5173e18",
   "metadata": {},
   "source": [
    "Rebuild a safe server and then add the parameters into the model"
   ]
  },
  {
   "cell_type": "code",
   "execution_count": 36,
   "id": "f22e58f2",
   "metadata": {},
   "outputs": [],
   "source": [
    "def load_protonet_conv2(com_para_c1,com_para_c2,com_para_c3,com_para_c1b,com_para_c2b,com_para_c3b):\n",
    "\n",
    "    def conv_block1(in_channels,out_channels,com_para):\n",
    "        c = nn.Conv2d(in_channels, out_channels, 3, padding=1)\n",
    "        c.weight=Parameter(com_para)\n",
    "        return nn.Sequential(\n",
    "            c,\n",
    "            nn.ReLU(),\n",
    "            nn.MaxPool2d(2)\n",
    "            )\n",
    "    \n",
    "    def conv_block2(in_channels, out_channels,com_para):\n",
    "        c = nn.Conv2d(in_channels, out_channels, 3, padding=1)\n",
    "        c.weight=Parameter(com_para)\n",
    "        return nn.Sequential(\n",
    "            c,\n",
    "            nn.ReLU(),\n",
    "            )\n",
    "\n",
    "\n",
    "    encoder = nn.Sequential(\n",
    "    conv_block1(1, 12,com_para_c1),\n",
    "    conv_block1(12, 32,com_para_c2),\n",
    "    conv_block2(32, 64,com_para_c3),\n",
    "    Flatten()\n",
    "    )\n",
    "\n",
    "    return ProtoNet(encoder)"
   ]
  },
  {
   "cell_type": "code",
   "execution_count": 37,
   "id": "6b2ea19d",
   "metadata": {},
   "outputs": [],
   "source": [
    "com_para_c1,com_para_c2,com_para_c3 = combine_params(pra1_a,pra1_b)\n",
    "com_para_c1b,com_para_c2b,com_para_c3b = combine_params_bias(pra1_a,pra1_b)\n",
    "final_model = load_protonet_conv2(com_para_c1,com_para_c2,com_para_c3,com_para_c1b,com_para_c2b,com_para_c3b)"
   ]
  },
  {
   "cell_type": "code",
   "execution_count": 38,
   "id": "405bc75f",
   "metadata": {},
   "outputs": [],
   "source": [
    "def test(model, test_x, test_y, n_way, n_support, n_query, test_episode):\n",
    "    running_loss = 0.0\n",
    "    running_acc = 0.0\n",
    "    for episode in tnrange(test_episode):\n",
    "        sample = extract_sample(n_way, n_support, n_query, test_x, test_y)\n",
    "        loss, output = model.set_forward_loss(sample)\n",
    "        running_loss += output['loss']\n",
    "        running_acc += output['acc']\n",
    "    avg_loss = running_loss / test_episode\n",
    "    avg_acc = running_acc / test_episode\n",
    "    print('Test results -- Loss: {:.4f} Acc: {:.4f}'.format(avg_loss, avg_acc))\n"
   ]
  },
  {
   "cell_type": "code",
   "execution_count": 39,
   "id": "f35f5802",
   "metadata": {},
   "outputs": [
    {
     "name": "stderr",
     "output_type": "stream",
     "text": [
      "D:\\Anaconda\\envs\\syft\\lib\\site-packages\\ipykernel_launcher.py:4: TqdmDeprecationWarning: Please use `tqdm.notebook.trange` instead of `tqdm.tnrange`\n",
      "  after removing the cwd from sys.path.\n"
     ]
    },
    {
     "data": {
      "application/vnd.jupyter.widget-view+json": {
       "model_id": "6af874e3b7e249ecaf32cad9adac47f1",
       "version_major": 2,
       "version_minor": 0
      },
      "text/plain": [
       "  0%|          | 0/1000 [00:00<?, ?it/s]"
      ]
     },
     "metadata": {},
     "output_type": "display_data"
    },
    {
     "name": "stdout",
     "output_type": "stream",
     "text": [
      "Test results -- Loss: 1.1876 Acc: 0.6284\n"
     ]
    }
   ],
   "source": [
    "test_x_list = \"D:/Study/自学项目/人类活动识别/UCI_data/np/x_test.npy\"\n",
    "test_y_list = \"D:/Study/自学项目/人类活动识别/UCI_data/np/y_test.npy\"\n",
    "\n",
    "data_x_raw = np.load(test_x_list)\n",
    "testx = data_x_raw.reshape(-1, 1, data_x_raw.shape[1], data_x_raw.shape[2])\n",
    "testy = np.load(test_y_list)\n",
    "\n",
    "n_way = 5\n",
    "n_support = 10\n",
    "n_query = 5\n",
    "\n",
    "test_episode = 1000\n",
    "test(final_model, testx, testy, n_way, n_support, n_query, test_episode)"
   ]
  }
 ],
 "metadata": {
  "kernelspec": {
   "display_name": "Python 3 (ipykernel)",
   "language": "python",
   "name": "python3"
  },
  "language_info": {
   "codemirror_mode": {
    "name": "ipython",
    "version": 3
   },
   "file_extension": ".py",
   "mimetype": "text/x-python",
   "name": "python",
   "nbconvert_exporter": "python",
   "pygments_lexer": "ipython3",
   "version": "3.7.16"
  }
 },
 "nbformat": 4,
 "nbformat_minor": 5
}
